{
 "cells": [
  {
   "cell_type": "code",
   "execution_count": null,
   "id": "4801f9f3",
   "metadata": {},
   "outputs": [],
   "source": [
    "import os\n",
    "import sys"
   ]
  },
  {
   "cell_type": "code",
   "execution_count": null,
   "id": "40dd862f",
   "metadata": {},
   "outputs": [],
   "source": [
    "sys.path.insert(0, '<project directory>')\n",
    "import requests\n",
    "from hypergol import HypergolProject\n",
    "from data_models.example_model_input import ExampleModelInput\n",
    "project = HypergolProject(\n",
    "    projectDirectory='<project directory>',\n",
    "    dataDirectory='<project data directory>',\n",
    "    force=True\n",
    ")\n",
    "# force=True enables you to run this command even if your git repo is dirty\n",
    "# if you create a dataset you can't recover the state of the codebase from the commit hash\n",
    "\n",
    "\n",
    "exampleModelInputs = project.datasetFactory.get(\n",
    "    dataType=ExampleModelInput, \n",
    "    name='example_model_inputs'\n",
    ")\n"
   ]
  },
  {
   "cell_type": "code",
   "execution_count": null,
   "id": "67721487",
   "metadata": {},
   "outputs": [],
   "source": [
    "import json\n",
    "from itertools import islice\n",
    "from data_models.example_model_output import ExampleModelOutput\n",
    "\n",
    "with exampleModelInputs.open('r') as dsr:\n",
    "    values = [value.to_data() for value in islice(dsr, 10)]\n",
    "\n",
    "response = requests.post(\n",
    "    'http://0.0.0.0:8000/output',\n",
    "    headers={\n",
    "        'accept': 'application/json',\n",
    "        'Content-Type': 'application/json',\n",
    "    },\n",
    "    data=json.dumps(values)\n",
    ")\n",
    "outputs = [ExampleModelOutput.from_data(v) for v in json.loads(response.text)]\n",
    "modelLongName = response.headers['x-model-long-name']"
   ]
  },
  {
   "cell_type": "code",
   "execution_count": null,
   "id": "21cd91ef",
   "metadata": {},
   "outputs": [],
   "source": []
  }
 ],
 "metadata": {
  "kernelspec": {
   "display_name": "Python 3 (ipykernel)",
   "language": "python",
   "name": "python3"
  },
  "language_info": {
   "codemirror_mode": {
    "name": "ipython",
    "version": 3
   },
   "file_extension": ".py",
   "mimetype": "text/x-python",
   "name": "python",
   "nbconvert_exporter": "python",
   "pygments_lexer": "ipython3",
   "version": "3.8.10"
  }
 },
 "nbformat": 4,
 "nbformat_minor": 5
}
